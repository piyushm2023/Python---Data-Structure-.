{
  "nbformat": 4,
  "nbformat_minor": 0,
  "metadata": {
    "colab": {
      "provenance": []
    },
    "kernelspec": {
      "name": "python3",
      "display_name": "Python 3"
    },
    "language_info": {
      "name": "python"
    }
  },
  "cells": [
    {
      "cell_type": "markdown",
      "source": [
        "#***Data Types and*** ***Structures***\n",
        "\n",
        "---\n",
        "\n"
      ],
      "metadata": {
        "id": "vT_k9HtWC6yE"
      }
    },
    {
      "cell_type": "markdown",
      "source": [
        "#*Data Types and Structures Questions*\n",
        "\n",
        "---\n",
        "\n"
      ],
      "metadata": {
        "id": "PoxAD6ujDGkM"
      }
    },
    {
      "cell_type": "markdown",
      "source": [
        "1. What are data structures, and why are they important ?                     \n",
        "    ans = Data structures are specialized formats for organizing, storing, and accessing collections of data. They provide efficient ways to manage information based on its characteristics and intended use.Choosing the right data structure significantly impacts the efficiency and performance of your program.\n",
        "\n",
        "    those important forSimplify data manipulation (adding, removing, modifying elements)\n",
        "Optimize searching and sorting operations etc"
      ],
      "metadata": {
        "id": "bcEjpXLADUSk"
      }
    },
    {
      "cell_type": "markdown",
      "source": [
        "2. Explain the difference between mutable and immutable data types with examples ?                                                                             \n",
        "    ans = mutable >>  Objects of mutable data types can be changed after they are created. This means you can modify their internal values without creating a brand new object. example: Lists,Dictionaries,Sets                \n",
        "      immutable >> data types cannot be changed after they are created. Any operation that appears to modify an immutable object actually creates a new object with the modified value. The original object remains unchanged. example: Numbers,Strings, Tuples\n",
        "  "
      ],
      "metadata": {
        "id": "cl_NRWE8FZaI"
      }
    },
    {
      "cell_type": "markdown",
      "source": [
        "3. What are the main differences between lists and tuples in Python ?          \n",
        "    ans = list >> Those who you can storing in list it also hetergenous data like inteager , float ,anyvalue . List is an ordered collection of element that can be of any data type . List is mutable                               \n",
        "     Tuple >> In tuple you do not change what you want because tuple is immutable .In tuple also ordered collection of element  \n"
      ],
      "metadata": {
        "id": "6MbQ36GXIAWd"
      }
    },
    {
      "cell_type": "markdown",
      "source": [
        "4.  Describe how dictionaries store data ?                                    \n",
        "    ans = Dictionaries store data as key-value pairs. Think of it like a real-world dictionary where you look up a word (the key) to find its definition (the value).The immutability of keys is crucial for ensuring that their hash values remain consistent, which is essential for the dictionary's proper functioning."
      ],
      "metadata": {
        "id": "luKLweEXK4a5"
      }
    },
    {
      "cell_type": "markdown",
      "source": [
        "5. Why might you use a set instead of a list in Python ?                         \n",
        "    ans = Choose to use a set instead of a list in several scenarios, primarily because of their distinct characteristics and performance implications for certain operations. it need to ensure that all elements in the collection are unique.\n",
        "it need to perform set operations like union, intersection, difference, etc.\n",
        " The order of elements is not import"
      ],
      "metadata": {
        "id": "2oVKdF5pNCst"
      }
    },
    {
      "cell_type": "markdown",
      "source": [
        "6. What is a string in Python, and how is it different from a lis ?           \n",
        "   ans = string is like a fixed sequence of letters forming a word or sentence, while a list is like a flexible container that can hold various objects in a specific order, and you can rearrange or add/remove items from this container."
      ],
      "metadata": {
        "id": "Olm4ifkcOqbW"
      }
    },
    {
      "cell_type": "markdown",
      "source": [
        "7. How do tuples ensure data integrity in Python ?                            \n",
        "   ans = Once a tuple is created, its contents cannot be changed. You cannot add, remove, or modify the elements within a tuple after it's defined its mean these is immutable .  Preventing modification of their elements after creation.\n",
        " * Providing predictability about the data they hold.\n",
        " * Enabling their use as dictionary keys, facilitating the creation of mappings based on fixed data.\n",
        " * Serving as a reliable way to represent fixed records of information.\n",
        " * Promoting safer data sharing by guaranteeing that the data will not be altered."
      ],
      "metadata": {
        "id": "VuuaM6RuP8xB"
      }
    },
    {
      "cell_type": "markdown",
      "source": [
        "8. What is a hash table, and how does it relate to dictionaries in Python ?   \n",
        " ans = Hash table  is a data structure that implements an associative array, also called a dictionary. It allows you to store key-value pairs and retrieve the value associated with a given key very efficiently, The efficiency and behavior of Python dictionaries are directly powered by the underlying hash table data structure. The use of a hash function to map keys to locations in memory allows for very fast average-case performance for common dictionary operations like insertion, deletion, and lookup."
      ],
      "metadata": {
        "id": "Rb4soP5LRh1C"
      }
    },
    {
      "cell_type": "markdown",
      "source": [
        "9. Can lists contain different data types in Python ?                         \n",
        " ans = Yes, lists in Python can contain different data types. This is one of the flexible and powerful features of Python lists."
      ],
      "metadata": {
        "id": "z1ChfTyaTwFa"
      }
    },
    {
      "cell_type": "markdown",
      "source": [
        "10. Explain why strings are immutable in Python ?                             \n",
        "    ans = Container whose state or value can not changed is caaled immutable . string is nothing but type of immutable that way string are immutable."
      ],
      "metadata": {
        "id": "avb94evQVF03"
      }
    },
    {
      "cell_type": "markdown",
      "source": [
        "11. What advantages do dictionaries offer over lists for certain tasks ?      \n",
        "    ans = Heir underlying hash table structure enables significantly faster data retrieval, with average constant time complexity for lookups based on unique keys, contrasting with the linear time complexity of list searches. This key-based access enhances code readability and intuitiveness by associating meaningful labels with data."
      ],
      "metadata": {
        "id": "Ls30mP6LX4O9"
      }
    },
    {
      "cell_type": "markdown",
      "source": [
        "12. Describe a scenario where using a tuple would be preferable over a list ?    \n",
        "    ans = A scenario where using a tuple would be preferable is when you need to represent a fixed collection of related items that should not be modified after creation.\n",
        "For example, consider representing the coordinates of a point in a 2D plane. You would naturally think of this as an ordered pair of numbers (x, y). Using a tuple (x, y) is ideal  "
      ],
      "metadata": {
        "id": "G8g76FOscEG0"
      }
    },
    {
      "cell_type": "markdown",
      "source": [
        "13. How do sets handle duplicate values in Python ?                           \n",
        "    ans = Python sets are quite clever when it comes to duplicate values. The key characteristic of a set is that it only stores unique elements.\n",
        "So, if you try to add a duplicate value to a set, Python will simply ignore it. The set will remain unchanged. It's as if you tried to add something that was already perfectly in its place!"
      ],
      "metadata": {
        "id": "B82S53gYdACv"
      }
    },
    {
      "cell_type": "markdown",
      "source": [
        "14. How does the “in” keyword work differently for lists and dictionaries ?   \n",
        "    ans = (1)  lists, in checks if something is anywhere in the list. It might have to look at every item.                                                  \n",
        "     (2) dictionaries, in only checks the main labels (keys) on the items. It's much quicker at finding if a label exist"
      ],
      "metadata": {
        "id": "x8kj6oZ4fHyK"
      }
    },
    {
      "cell_type": "markdown",
      "source": [
        "15. Can you modify the elements of a tuple? Explain why or why not ?          \n",
        "    ans = (1)No, you cannot directly change the elements of a tuple after it's created.                                                                \n",
        "       (2)Tuples in Python are designed to be immutable. This is a fancy word that means \"cannot be changed\"."
      ],
      "metadata": {
        "id": "Kq8_WH5qg3xw"
      }
    },
    {
      "cell_type": "markdown",
      "source": [
        "16. What is a nested dictionary, and give an example of its use case ?        \n",
        "    ans = Nested dictionaries are useful for organizing complex information that has different categories or sub-information. Nested dictionaries are the way to structure data when you have relationships between different pieces of information. They allow you to create organized and easy-to-access data structures for more complex scenarios."
      ],
      "metadata": {
        "id": "J4wkYWG0h_Mv"
      }
    },
    {
      "cell_type": "markdown",
      "source": [
        "17. Describe the time complexity of accessing elements in dictionary ?         \n",
        "    ans = how fast it is to get to something inside a Python list, in a basic way. This is what we call \"time complexity\".\n",
        "Imagine your Python list is like a row of numbered lockers. Each item in the list is inside one of these lockers, and the number of the locker is its \"index\" (starting from 0)17.  "
      ],
      "metadata": {
        "id": "zIMkATCPjPmx"
      }
    },
    {
      "cell_type": "markdown",
      "source": [
        "18. In what situations are lists preferred over dictionaries ?                \n",
        "  ans = (1) Use a list when order and potentially duplicates matter, or when you access items by their position.\n",
        "\n",
        "  (2) Use a dictionary when you need to look up information quickly using unique names (keys).\n",
        "\n",
        "   (3) ex : If you have a numbered shopping list, that's like a list. If you have a phone book where you look up numbers by name, that's like a dictionary."
      ],
      "metadata": {
        "id": "lo0iQq4flWtT"
      }
    },
    {
      "cell_type": "markdown",
      "source": [
        "19. Why are dictionaries considered unordered, and how does that affect data\n",
        "    retrieval ?                                                               \n",
        "       ans = When you add items to a dictionary, Python focuses on making it quick to find them using their keys, not on remembering the order you added them.\n",
        "The fact that dictionaries are unordered doesn't make it harder or slower to get information. In fact, it's the opposite!\n",
        "Because Python organizes dictionaries for efficient lookups based on keys, retrieving a value using its key is very fast, no matter how many items are in the dictionary"
      ],
      "metadata": {
        "id": "Bj3zqBW3mnAm"
      }
    },
    {
      "cell_type": "markdown",
      "source": [
        "20. Explain the difference between a list and a dictionary in terms of data\n",
        " retrieval                                                                  \n",
        "  ans = (1) List: You get items using their numerical position (index). The position matters.\n",
        "\n",
        " (2) Dictionary: You get items using their unique label (key). The label matters, not necessarily the order."
      ],
      "metadata": {
        "id": "MmzaN3L-nwVZ"
      }
    },
    {
      "cell_type": "markdown",
      "source": [
        "# ***Practical Questions***\n",
        "\n",
        "---\n",
        "\n"
      ],
      "metadata": {
        "id": "5Dxkv9sWolS1"
      }
    },
    {
      "cell_type": "markdown",
      "source": [
        "1. Write a code to create a string with your name and print it"
      ],
      "metadata": {
        "id": "JMTnQG_SpHQ5"
      }
    },
    {
      "cell_type": "code",
      "execution_count": 1,
      "metadata": {
        "colab": {
          "base_uri": "https://localhost:8080/"
        },
        "id": "9VPVgNy8Cpf4",
        "outputId": "97579d6a-f592-4bdd-8463-8d4618ca46e6"
      },
      "outputs": [
        {
          "output_type": "stream",
          "name": "stdout",
          "text": [
            "piyush\n"
          ]
        }
      ],
      "source": [
        "#ans\n",
        "name = \"piyush\"\n",
        "print(name)\n"
      ]
    },
    {
      "cell_type": "markdown",
      "source": [
        "2.  Write a code to find the length of the string \"Hello World\" ?"
      ],
      "metadata": {
        "id": "Ne29Z4o3p6XD"
      }
    },
    {
      "cell_type": "code",
      "source": [
        "#ans\n",
        "my_string = \"Hello World\"\n",
        "length_of_string = len(my_string)\n",
        "print(length_of_string)"
      ],
      "metadata": {
        "colab": {
          "base_uri": "https://localhost:8080/"
        },
        "id": "dnrpjpoHpxiv",
        "outputId": "900a2ef7-5bd5-4bbc-9484-20c3418e80cf"
      },
      "execution_count": 2,
      "outputs": [
        {
          "output_type": "stream",
          "name": "stdout",
          "text": [
            "11\n"
          ]
        }
      ]
    },
    {
      "cell_type": "markdown",
      "source": [
        "3. write a code to slice the first 3 characters from the string \"python programming\""
      ],
      "metadata": {
        "id": "RR4fHeChrCGe"
      }
    },
    {
      "cell_type": "code",
      "source": [
        "my_string = \"python\"\n",
        "first_three_chars = my_string[0:3]\n",
        "print(first_three_chars)"
      ],
      "metadata": {
        "colab": {
          "base_uri": "https://localhost:8080/"
        },
        "id": "OzKOtIDiqeWw",
        "outputId": "529a0879-0bfa-4896-82a5-ea2fb34652f6"
      },
      "execution_count": 4,
      "outputs": [
        {
          "output_type": "stream",
          "name": "stdout",
          "text": [
            "pyt\n"
          ]
        }
      ]
    },
    {
      "cell_type": "markdown",
      "source": [
        "4. Write a code to convert the string \"hello\" to uppercase"
      ],
      "metadata": {
        "id": "KR3PmsZKrrv2"
      }
    },
    {
      "cell_type": "code",
      "source": [
        "my_string = \"hello\"\n",
        "uppercase_string = my_string.upper()\n",
        "print(uppercase_string)"
      ],
      "metadata": {
        "colab": {
          "base_uri": "https://localhost:8080/"
        },
        "id": "sTwTCPYtrnWT",
        "outputId": "360fc76a-5b73-4359-f4ad-eacc84b37ba1"
      },
      "execution_count": 5,
      "outputs": [
        {
          "output_type": "stream",
          "name": "stdout",
          "text": [
            "HELLO\n"
          ]
        }
      ]
    },
    {
      "cell_type": "markdown",
      "source": [
        "5. Write a code to replace the word \"apple\" with \"orange\" in the string \"I like apple\""
      ],
      "metadata": {
        "id": "4K00IODpsAwo"
      }
    },
    {
      "cell_type": "code",
      "source": [
        "my_string = \"I like apple\"\n",
        "new_string = my_string.replace(\"apple\", \"orange\")\n",
        "print(new_string)"
      ],
      "metadata": {
        "colab": {
          "base_uri": "https://localhost:8080/"
        },
        "id": "isZrJS_-sXAc",
        "outputId": "4e96d062-fcfb-4e82-9ff9-e89695b9631a"
      },
      "execution_count": 7,
      "outputs": [
        {
          "output_type": "stream",
          "name": "stdout",
          "text": [
            "I like orange\n"
          ]
        }
      ]
    },
    {
      "cell_type": "markdown",
      "source": [
        "6. Write a code to create a list with numbers 1 to 5 and print it"
      ],
      "metadata": {
        "id": "iOrWXaDVsffa"
      }
    },
    {
      "cell_type": "code",
      "source": [
        "my_list = [1, 2, 3, 4, 5]\n",
        "print(my_list)"
      ],
      "metadata": {
        "colab": {
          "base_uri": "https://localhost:8080/"
        },
        "id": "dJeAp2r9sYGW",
        "outputId": "08ee163e-413e-4381-b0d9-bc6d7b98e0cb"
      },
      "execution_count": 8,
      "outputs": [
        {
          "output_type": "stream",
          "name": "stdout",
          "text": [
            "[1, 2, 3, 4, 5]\n"
          ]
        }
      ]
    },
    {
      "cell_type": "markdown",
      "source": [
        "7. Write a code to append the number 10 to the list [1, 2, 3, 4]"
      ],
      "metadata": {
        "id": "V5IOOzkts2La"
      }
    },
    {
      "cell_type": "code",
      "source": [
        "my_list = [1, 2, 3, 4]\n",
        "my_list.append(10)\n",
        "print(my_list)"
      ],
      "metadata": {
        "colab": {
          "base_uri": "https://localhost:8080/"
        },
        "id": "8gbq_ZOxsx4i",
        "outputId": "36a44e1b-2f41-4aaf-c788-f0f903b26750"
      },
      "execution_count": 9,
      "outputs": [
        {
          "output_type": "stream",
          "name": "stdout",
          "text": [
            "[1, 2, 3, 4, 10]\n"
          ]
        }
      ]
    },
    {
      "cell_type": "markdown",
      "source": [
        "8. Write a code to remove the number 3 from the list [1, 2, 3, 4, 5]"
      ],
      "metadata": {
        "id": "ixTzQeOjtQyn"
      }
    },
    {
      "cell_type": "code",
      "source": [
        "my_list = [1, 2, 3, 4, 5]\n",
        "my_list.remove(3)\n",
        "print(my_list)"
      ],
      "metadata": {
        "colab": {
          "base_uri": "https://localhost:8080/"
        },
        "id": "QpHvZMIJtPvG",
        "outputId": "c638c98f-fce2-4f8f-84bd-eaf5693991f9"
      },
      "execution_count": 10,
      "outputs": [
        {
          "output_type": "stream",
          "name": "stdout",
          "text": [
            "[1, 2, 4, 5]\n"
          ]
        }
      ]
    },
    {
      "cell_type": "markdown",
      "source": [
        "9. Write a code to access the second element in the list ['a', 'b', 'c', 'd']"
      ],
      "metadata": {
        "id": "ldY8z-tbtjSW"
      }
    },
    {
      "cell_type": "code",
      "source": [
        "my_list = ['a', 'b', 'c', 'd']\n",
        "second_element = my_list[1]\n",
        "print(second_element)"
      ],
      "metadata": {
        "colab": {
          "base_uri": "https://localhost:8080/"
        },
        "id": "FoygY_RltiTJ",
        "outputId": "ba702593-2b22-4ba2-ab68-f49944d1acb9"
      },
      "execution_count": 11,
      "outputs": [
        {
          "output_type": "stream",
          "name": "stdout",
          "text": [
            "b\n"
          ]
        }
      ]
    },
    {
      "cell_type": "markdown",
      "source": [
        "10. Write a code to reverse the list [10, 20, 30, 40, 50]."
      ],
      "metadata": {
        "id": "L7ASI3T_t4G5"
      }
    },
    {
      "cell_type": "code",
      "source": [
        "my_list = [10, 20, 30, 40, 50]\n",
        "my_list.reverse()\n",
        "print(my_list)"
      ],
      "metadata": {
        "colab": {
          "base_uri": "https://localhost:8080/"
        },
        "id": "RWCyar0xt27W",
        "outputId": "709aafd8-8581-4e8a-da84-e833720ab53b"
      },
      "execution_count": 12,
      "outputs": [
        {
          "output_type": "stream",
          "name": "stdout",
          "text": [
            "[50, 40, 30, 20, 10]\n"
          ]
        }
      ]
    },
    {
      "cell_type": "markdown",
      "source": [
        "11. Write a code to create a tuple with the elements 100, 200, 300 and print it"
      ],
      "metadata": {
        "id": "7sybFgXzuK3v"
      }
    },
    {
      "cell_type": "code",
      "source": [
        "my_tuple = (100, 200, 300)\n",
        "print(my_tuple)"
      ],
      "metadata": {
        "colab": {
          "base_uri": "https://localhost:8080/"
        },
        "id": "1a2IF_uguJ1M",
        "outputId": "e2ce848b-1489-4e2e-9759-a985297e8ab7"
      },
      "execution_count": 13,
      "outputs": [
        {
          "output_type": "stream",
          "name": "stdout",
          "text": [
            "(100, 200, 300)\n"
          ]
        }
      ]
    },
    {
      "cell_type": "markdown",
      "source": [
        "12. Write a code to access the second-to-last element of the tuple ('red', 'green', 'blue', 'yellow')"
      ],
      "metadata": {
        "id": "iX_ghyVmueca"
      }
    },
    {
      "cell_type": "code",
      "source": [
        "my_tuple = ('red', 'green', 'blue', 'yellow')\n",
        "second_to_last_element = my_tuple[-2]\n",
        "print(second_to_last_element)"
      ],
      "metadata": {
        "colab": {
          "base_uri": "https://localhost:8080/"
        },
        "id": "_B9c-P1XudVL",
        "outputId": "caa7e221-2393-49d6-c5d4-cd78e93896a9"
      },
      "execution_count": 14,
      "outputs": [
        {
          "output_type": "stream",
          "name": "stdout",
          "text": [
            "blue\n"
          ]
        }
      ]
    },
    {
      "cell_type": "markdown",
      "source": [
        "13. Write a code to find the minimum number in the tuple (10, 20, 5, 15)"
      ],
      "metadata": {
        "id": "RxpFUczXuyW0"
      }
    },
    {
      "cell_type": "code",
      "source": [
        "my_tuple = (10, 20, 5, 15)\n",
        "minimum_number = min(my_tuple)\n",
        "print(minimum_number)"
      ],
      "metadata": {
        "colab": {
          "base_uri": "https://localhost:8080/"
        },
        "id": "EVRqOxVFvBqr",
        "outputId": "7d491a08-fa61-4eb6-a380-f09771bc6f8d"
      },
      "execution_count": 15,
      "outputs": [
        {
          "output_type": "stream",
          "name": "stdout",
          "text": [
            "5\n"
          ]
        }
      ]
    },
    {
      "cell_type": "markdown",
      "source": [
        "14. Write a code to find the index of the element \"cat\" in the tuple ('dog', 'cat', 'rabbit')\n"
      ],
      "metadata": {
        "id": "29q6p0w_vOJH"
      }
    },
    {
      "cell_type": "code",
      "source": [
        "my_tuple = ('dog', 'cat', 'rabbit')\n",
        "index_of_cat = my_tuple.index('cat')\n",
        "print(index_of_cat)"
      ],
      "metadata": {
        "colab": {
          "base_uri": "https://localhost:8080/"
        },
        "id": "mwcAZiUHvC4w",
        "outputId": "e0825f6e-c38b-419a-9fbc-b125beb4e43a"
      },
      "execution_count": 16,
      "outputs": [
        {
          "output_type": "stream",
          "name": "stdout",
          "text": [
            "1\n"
          ]
        }
      ]
    },
    {
      "cell_type": "markdown",
      "source": [
        "15. Write a code to create a tuple containing three different fruits and check if \"kiwi\" is in it"
      ],
      "metadata": {
        "id": "rTyjvHFeveZC"
      }
    },
    {
      "cell_type": "code",
      "source": [
        "my_tuple = ('apple', 'banana', 'orange')\n",
        "print(my_tuple)"
      ],
      "metadata": {
        "colab": {
          "base_uri": "https://localhost:8080/"
        },
        "id": "vz01EGZrvwNM",
        "outputId": "2c8d1fbd-5d4e-4cdf-fa9c-aadb2e55b849"
      },
      "execution_count": 17,
      "outputs": [
        {
          "output_type": "stream",
          "name": "stdout",
          "text": [
            "('apple', 'banana', 'orange')\n"
          ]
        }
      ]
    },
    {
      "cell_type": "markdown",
      "source": [
        "16. Write a code to create a set with the elements 'a', 'b', 'c' and print it."
      ],
      "metadata": {
        "id": "AdFAEDHQvzdy"
      }
    },
    {
      "cell_type": "code",
      "source": [
        "my_set = {'a', 'b', 'c'}\n",
        "print(my_set)"
      ],
      "metadata": {
        "colab": {
          "base_uri": "https://localhost:8080/"
        },
        "id": "_Vea_3bavxHJ",
        "outputId": "689af54f-a861-4c79-a2bd-6ea0a52a82d4"
      },
      "execution_count": 18,
      "outputs": [
        {
          "output_type": "stream",
          "name": "stdout",
          "text": [
            "{'a', 'c', 'b'}\n"
          ]
        }
      ]
    },
    {
      "cell_type": "markdown",
      "source": [
        "17. Write a code to clear all elements from the set {1, 2, 3, 4, 5}."
      ],
      "metadata": {
        "id": "oGDz-t7wwA2l"
      }
    },
    {
      "cell_type": "code",
      "source": [
        "my_set = {1, 2, 3, 4, 5}\n",
        "my_set.clear()\n",
        "print(my_set)"
      ],
      "metadata": {
        "colab": {
          "base_uri": "https://localhost:8080/"
        },
        "id": "kP0BI2ajv_-m",
        "outputId": "ddf3f6a3-6e7f-40ec-e1da-70c92418c567"
      },
      "execution_count": 19,
      "outputs": [
        {
          "output_type": "stream",
          "name": "stdout",
          "text": [
            "set()\n"
          ]
        }
      ]
    },
    {
      "cell_type": "markdown",
      "source": [
        "18. Write a code to remove the element 4 from the set {1, 2, 3, 4}.\n"
      ],
      "metadata": {
        "id": "0MD514WiwPh9"
      }
    },
    {
      "cell_type": "code",
      "source": [
        "my_set = {1, 2, 3, 4}\n",
        "my_set.remove(4)\n",
        "print(my_set)"
      ],
      "metadata": {
        "colab": {
          "base_uri": "https://localhost:8080/"
        },
        "id": "8F6rGuT9wOsA",
        "outputId": "b73c89d9-00f9-4500-dbac-3fe5a15155be"
      },
      "execution_count": 20,
      "outputs": [
        {
          "output_type": "stream",
          "name": "stdout",
          "text": [
            "{1, 2, 3}\n"
          ]
        }
      ]
    },
    {
      "cell_type": "markdown",
      "source": [
        "19. Write a code to find the union of two sets {1, 2, 3} and {3, 4, 5}."
      ],
      "metadata": {
        "id": "fInEFI8BwjqA"
      }
    },
    {
      "cell_type": "code",
      "source": [
        "set1 = {1, 2, 3}\n",
        "set2 = {3, 4, 5}\n",
        "union_set = set1.union(set2)\n",
        "print(union_set)"
      ],
      "metadata": {
        "colab": {
          "base_uri": "https://localhost:8080/"
        },
        "id": "cr2hgQ99wil0",
        "outputId": "0ee8755c-ff51-4c24-e47a-e4a803d14bb6"
      },
      "execution_count": 21,
      "outputs": [
        {
          "output_type": "stream",
          "name": "stdout",
          "text": [
            "{1, 2, 3, 4, 5}\n"
          ]
        }
      ]
    },
    {
      "cell_type": "markdown",
      "source": [
        "20. Write a code to find the intersection of two sets {1, 2, 3} and {2, 3, 4}.\n",
        "\n"
      ],
      "metadata": {
        "id": "v3eWod28w0HN"
      }
    },
    {
      "cell_type": "code",
      "source": [
        "set1 = {1, 2, 3}\n",
        "set2 = {2, 3, 4}\n",
        "intersection_set = set1.intersection(set2)\n",
        "print(intersection_set)"
      ],
      "metadata": {
        "colab": {
          "base_uri": "https://localhost:8080/"
        },
        "id": "hdikOYfRwyxa",
        "outputId": "0ac5ac7f-0b84-4336-821e-b60c3f4a12d7"
      },
      "execution_count": 22,
      "outputs": [
        {
          "output_type": "stream",
          "name": "stdout",
          "text": [
            "{2, 3}\n"
          ]
        }
      ]
    },
    {
      "cell_type": "markdown",
      "source": [
        "21.  Write a code to create a dictionary with the keys \"name\", \"age\", and \"city\", and print it."
      ],
      "metadata": {
        "id": "zzb7xEJGxCzk"
      }
    },
    {
      "cell_type": "code",
      "source": [
        "my_dictionary = {\"name\": \"piyush\", \"age\": 18, \"city\": \"Jalgaon\"}\n",
        "print(my_dictionary)"
      ],
      "metadata": {
        "colab": {
          "base_uri": "https://localhost:8080/"
        },
        "id": "aMcnbvCpxBzv",
        "outputId": "29a87d65-7dec-413e-e9eb-ab76312ba153"
      },
      "execution_count": 24,
      "outputs": [
        {
          "output_type": "stream",
          "name": "stdout",
          "text": [
            "{'name': 'piyush', 'age': 18, 'city': 'Jalgaon'}\n"
          ]
        }
      ]
    },
    {
      "cell_type": "markdown",
      "source": [
        "22.  Write a code to add a new key-value pair \"country\": \"USA\" to the dictionary {'name': 'John', 'age': 25}.\n",
        "\n"
      ],
      "metadata": {
        "id": "IJTEjrbbxnfY"
      }
    },
    {
      "cell_type": "code",
      "source": [
        "my_dictionary = {'name': 'John', 'age': 25}\n",
        "my_dictionary['country'] = 'USA'\n",
        "print(my_dictionary)"
      ],
      "metadata": {
        "colab": {
          "base_uri": "https://localhost:8080/"
        },
        "id": "LKT9Xf4XxiiC",
        "outputId": "e49e5bdb-db03-4c15-9318-e39b02e2070a"
      },
      "execution_count": 25,
      "outputs": [
        {
          "output_type": "stream",
          "name": "stdout",
          "text": [
            "{'name': 'John', 'age': 25, 'country': 'USA'}\n"
          ]
        }
      ]
    },
    {
      "cell_type": "markdown",
      "source": [
        "23.  Write a code to access the value associated with the key \"name\" in the dictionary {'name': 'Alice', 'age': 30}"
      ],
      "metadata": {
        "id": "7L7VTt65x_Y_"
      }
    },
    {
      "cell_type": "code",
      "source": [
        "my_dictionary = {'name': 'Alice', 'age': 30, 'city': 'Jalgaon'}\n",
        "name_value = my_dictionary['name']\n",
        "print(name_value)"
      ],
      "metadata": {
        "colab": {
          "base_uri": "https://localhost:8080/"
        },
        "id": "RfFUvcxMx-JA",
        "outputId": "8283e436-bf25-41cf-a7fc-befdbf88ddf0"
      },
      "execution_count": 26,
      "outputs": [
        {
          "output_type": "stream",
          "name": "stdout",
          "text": [
            "Alice\n"
          ]
        }
      ]
    },
    {
      "cell_type": "markdown",
      "source": [
        "24. Write a code to remove the key \"age\" from the dictionary {'name': 'Bob', 'age': 22, 'city': 'New York'}."
      ],
      "metadata": {
        "id": "Mcf47GOiybsS"
      }
    },
    {
      "cell_type": "code",
      "source": [
        "my_dictionary = {'name': 'Bob', 'age': 22, 'city': 'New York'}\n",
        "del my_dictionary['age']\n",
        "print(my_dictionary)"
      ],
      "metadata": {
        "colab": {
          "base_uri": "https://localhost:8080/"
        },
        "id": "yo5SXMUJyYza",
        "outputId": "0a499a30-ca50-4dae-a751-b597898265e6"
      },
      "execution_count": 27,
      "outputs": [
        {
          "output_type": "stream",
          "name": "stdout",
          "text": [
            "{'name': 'Bob', 'city': 'New York'}\n"
          ]
        }
      ]
    },
    {
      "cell_type": "markdown",
      "source": [
        "25.  Write a code to check if the key \"city\" exists in the dictionary {'name': 'Alice', 'city': 'Paris'}."
      ],
      "metadata": {
        "id": "bReJuUzvzAvg"
      }
    },
    {
      "cell_type": "code",
      "source": [
        "my_dictionary = {'name': 'Alice', 'age': 30, 'city': 'New York'}\n",
        "if 'city' in my_dictionary:\n",
        "    print(\"The key 'city' exists in the dictionary.\")\n",
        "else:\n",
        "    print(\"The key 'city' does not exist in the dictionary.\")"
      ],
      "metadata": {
        "colab": {
          "base_uri": "https://localhost:8080/"
        },
        "id": "_4Cjl59Xy7Zw",
        "outputId": "442273a9-ca9b-4479-fef6-bc3c7c64960a"
      },
      "execution_count": 28,
      "outputs": [
        {
          "output_type": "stream",
          "name": "stdout",
          "text": [
            "The key 'city' exists in the dictionary.\n"
          ]
        }
      ]
    },
    {
      "cell_type": "markdown",
      "source": [
        "26.  Write a code to create a list, a tuple, and a dictionary, and print them all"
      ],
      "metadata": {
        "id": "e3_WFUA8zYHd"
      }
    },
    {
      "cell_type": "code",
      "source": [
        "my_list = [1, 2, 3]\n",
        "my_tuple = ('apple', 'banana', 'cherry')\n",
        "my_dictionary = {'name': 'Piyush', 'age': 25, 'city': 'Jalgaon'}\n",
        "\n",
        "print(\"List:\", my_list)\n",
        "print(\"Tuple:\", my_tuple)\n",
        "print(\"Dictionary:\", my_dictionary)"
      ],
      "metadata": {
        "colab": {
          "base_uri": "https://localhost:8080/"
        },
        "id": "xn6O0gMuzVTN",
        "outputId": "fe4165ef-a035-4dea-f19f-13621e8d8218"
      },
      "execution_count": 29,
      "outputs": [
        {
          "output_type": "stream",
          "name": "stdout",
          "text": [
            "List: [1, 2, 3]\n",
            "Tuple: ('apple', 'banana', 'cherry')\n",
            "Dictionary: {'name': 'Piyush', 'age': 25, 'city': 'Jalgaon'}\n"
          ]
        }
      ]
    },
    {
      "cell_type": "markdown",
      "source": [
        "27. Write a code to create a list of 5 random numbers between 1 and 100, sort it in ascending order, and print the\n",
        "result.(replaced)"
      ],
      "metadata": {
        "id": "kGbz42oQzuzB"
      }
    },
    {
      "cell_type": "code",
      "source": [
        "import random\n",
        "\n",
        "# Create a list of 5 random numbers between 1 and 100 (inclusive)\n",
        "random_numbers = [random.randint(1, 100) for _ in range(5)]\n",
        "\n",
        "# Sort the list in ascending order\n",
        "random_numbers.sort()\n",
        "\n",
        "# Print the sorted list\n",
        "print(\"Sorted list of random numbers:\", random_numbers)"
      ],
      "metadata": {
        "colab": {
          "base_uri": "https://localhost:8080/"
        },
        "id": "-L2trsxj0Mvu",
        "outputId": "8274ff73-89cd-4ec3-8f39-a6cc06c8fc5d"
      },
      "execution_count": 31,
      "outputs": [
        {
          "output_type": "stream",
          "name": "stdout",
          "text": [
            "Sorted list of random numbers: [9, 27, 81, 84, 99]\n"
          ]
        }
      ]
    },
    {
      "cell_type": "markdown",
      "source": [
        "28. Write a code to create a list with strings and print the element at the third index"
      ],
      "metadata": {
        "id": "NxAeAoU90R8F"
      }
    },
    {
      "cell_type": "code",
      "source": [
        "my_string_list = [\"apple\", \"banana\", \"cherry\", \"date\", \"elderberry\"]\n",
        "element_at_index_3 = my_string_list[3]\n",
        "print(\"Element at index 3:\", element_at_index_3)"
      ],
      "metadata": {
        "colab": {
          "base_uri": "https://localhost:8080/"
        },
        "id": "5ijuvnaa0j8d",
        "outputId": "3a160d9b-5058-4684-8bf6-cf4a6a79fd6b"
      },
      "execution_count": 32,
      "outputs": [
        {
          "output_type": "stream",
          "name": "stdout",
          "text": [
            "Element at index 3: date\n"
          ]
        }
      ]
    },
    {
      "cell_type": "markdown",
      "source": [
        "29.  Write a code to combine two dictionaries into one and print the result.\n",
        "\n"
      ],
      "metadata": {
        "id": "tnGuRalN0nip"
      }
    },
    {
      "cell_type": "code",
      "source": [
        "dict1 = {'a': 1, 'b': 2}\n",
        "dict2 = {'c': 3, 'd': 4}\n",
        "\n",
        "combined_dict_method1 = dict1.copy()  # Create a copy to avoid modifying the original dict1\n",
        "combined_dict_method1.update(dict2)\n",
        "print(\"Combined dictionary (using update()):\", combined_dict_method1)\n"
      ],
      "metadata": {
        "colab": {
          "base_uri": "https://localhost:8080/"
        },
        "id": "sR2s8gcP0mNp",
        "outputId": "41672416-2998-41b2-e436-5f388a8081ce"
      },
      "execution_count": 34,
      "outputs": [
        {
          "output_type": "stream",
          "name": "stdout",
          "text": [
            "Combined dictionary (using update()): {'a': 1, 'b': 2, 'c': 3, 'd': 4}\n"
          ]
        }
      ]
    },
    {
      "cell_type": "markdown",
      "source": [
        "30. Write a code to convert a list of strings into a set."
      ],
      "metadata": {
        "id": "ZkGAb6MP1BoU"
      }
    },
    {
      "cell_type": "code",
      "source": [
        "my_list = [\"apple\", \"banana\", \"cherry\", \"apple\", \"date\"]\n",
        "my_set = set(my_list)\n",
        "print(my_set)"
      ],
      "metadata": {
        "colab": {
          "base_uri": "https://localhost:8080/"
        },
        "id": "KQszL-OH04Nr",
        "outputId": "d480a69f-c107-4333-a379-76206df3c3bf"
      },
      "execution_count": 35,
      "outputs": [
        {
          "output_type": "stream",
          "name": "stdout",
          "text": [
            "{'cherry', 'banana', 'date', 'apple'}\n"
          ]
        }
      ]
    },
    {
      "cell_type": "code",
      "source": [],
      "metadata": {
        "id": "0XmPBxEw1Rxq"
      },
      "execution_count": null,
      "outputs": []
    }
  ]
}